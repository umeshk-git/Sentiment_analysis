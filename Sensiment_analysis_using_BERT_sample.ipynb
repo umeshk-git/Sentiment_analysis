{
 "cells": [
  {
   "cell_type": "code",
   "execution_count": 2,
   "id": "c3185b3a",
   "metadata": {},
   "outputs": [
    {
     "name": "stderr",
     "output_type": "stream",
     "text": [
      "d:\\Programming\\venv\\Lib\\site-packages\\tqdm\\auto.py:21: TqdmWarning: IProgress not found. Please update jupyter and ipywidgets. See https://ipywidgets.readthedocs.io/en/stable/user_install.html\n",
      "  from .autonotebook import tqdm as notebook_tqdm\n"
     ]
    }
   ],
   "source": [
    "import torch\n",
    "from transformers import BertTokenizer, BertForSequenceClassification"
   ]
  },
  {
   "cell_type": "code",
   "execution_count": 14,
   "id": "ae10c319",
   "metadata": {},
   "outputs": [],
   "source": [
    "# loading model and tokenizer\n",
    "model_name = \"nlptown/bert-base-multilingual-uncased-sentiment\"\n",
    "tokenizer = BertTokenizer.from_pretrained(model_name)\n",
    "model = BertForSequenceClassification.from_pretrained(model_name)\n",
    "# model"
   ]
  },
  {
   "cell_type": "code",
   "execution_count": 15,
   "id": "78770589",
   "metadata": {},
   "outputs": [],
   "source": [
    "# Example review / comment\n",
    "test_comment = \"This product is really good. I would like to buy it again\""
   ]
  },
  {
   "cell_type": "code",
   "execution_count": 16,
   "id": "bdfa5a19",
   "metadata": {},
   "outputs": [],
   "source": [
    "# next step is to tokenize the input sentence\n",
    "input = tokenizer(test_comment, return_tensors=\"pt\", truncation=True, padding=True)\n"
   ]
  },
  {
   "cell_type": "code",
   "execution_count": 17,
   "id": "fa4bcc6a",
   "metadata": {},
   "outputs": [],
   "source": [
    "# run model\n",
    "with torch.no_grad():\n",
    "    output = model(**input)"
   ]
  },
  {
   "cell_type": "code",
   "execution_count": 18,
   "id": "25a56fe4",
   "metadata": {},
   "outputs": [],
   "source": [
    "# get prediction\n",
    "logit = output.logits\n",
    "predicted_class = torch.argmax(logit, dim=1).item()"
   ]
  },
  {
   "cell_type": "code",
   "execution_count": 19,
   "id": "32d56c82",
   "metadata": {},
   "outputs": [],
   "source": [
    "# mapping classification to labels\n",
    "label_map = {\n",
    "    0 : \"1 star\",\n",
    "    1 : \"2 star\",\n",
    "    2 : \"3 star\",\n",
    "    3 : \"4 star\",\n",
    "    4 : \"5 star\"\n",
    "}"
   ]
  },
  {
   "cell_type": "code",
   "execution_count": 20,
   "id": "102cf97c",
   "metadata": {},
   "outputs": [
    {
     "name": "stdout",
     "output_type": "stream",
     "text": [
      "Trying with one comment \n",
      "\n",
      "Comment: This product is really good. I would like to buy it again\n",
      "Predicted sentiment: 5 star\n"
     ]
    }
   ],
   "source": [
    "# print result\n",
    "print(\"Trying with one comment \\n\")\n",
    "print(f\"Comment: {test_comment}\")\n",
    "print(\"Predicted sentiment:\", label_map[predicted_class])"
   ]
  },
  {
   "cell_type": "markdown",
   "id": "f35221b4",
   "metadata": {},
   "source": [
    "For multiple comments with different sentiment"
   ]
  },
  {
   "cell_type": "code",
   "execution_count": 22,
   "id": "7478fd16",
   "metadata": {},
   "outputs": [
    {
     "name": "stdout",
     "output_type": "stream",
     "text": [
      "Trying with multiple comments \n",
      "\n",
      "Comment: This product is really good. I would like to buy it again\n",
      "Predicted sentiment: 5 star\n",
      "\n",
      "\n",
      "Comment: I wouldnt recommend anyone to buy this item\n",
      "Predicted sentiment: 1 star\n",
      "\n",
      "\n",
      "Comment: I kind of liked it but prob will not by next time\n",
      "Predicted sentiment: 3 star\n",
      "\n",
      "\n"
     ]
    }
   ],
   "source": [
    "\n",
    "test_comments = [\"This product is really good. I would like to buy it again\",\n",
    "                \"I wouldnt recommend anyone to buy this item\",\n",
    "                \"I kind of liked it but prob will not by next time\"]\n",
    "\n",
    "# next step is to tokenize the input sentence\n",
    "inputs = tokenizer(test_comments, return_tensors=\"pt\", truncation=True, padding=True)\n",
    "\n",
    "# run model\n",
    "with torch.no_grad():\n",
    "    outputs = model(**inputs)\n",
    "\n",
    "# get prediction\n",
    "logits = outputs.logits\n",
    "predicted_class = torch.argmax(logits, dim=1)\n",
    "\n",
    "# print resulted sentiment prediction\n",
    "print(\"Trying with multiple comments \\n\")\n",
    "for comment, prediction in zip(test_comments, predicted_class):\n",
    "    print(f\"Comment: {comment}\")\n",
    "    print(f\"Predicted sentiment: {label_map[prediction.item()]}\")\n",
    "    print(\"\\n\")"
   ]
  }
 ],
 "metadata": {
  "kernelspec": {
   "display_name": "venv",
   "language": "python",
   "name": "python3"
  },
  "language_info": {
   "codemirror_mode": {
    "name": "ipython",
    "version": 3
   },
   "file_extension": ".py",
   "mimetype": "text/x-python",
   "name": "python",
   "nbconvert_exporter": "python",
   "pygments_lexer": "ipython3",
   "version": "3.13.3"
  }
 },
 "nbformat": 4,
 "nbformat_minor": 5
}
